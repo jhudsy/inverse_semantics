{
 "cells": [
  {
   "cell_type": "code",
   "execution_count": 1,
   "metadata": {},
   "outputs": [],
   "source": [
    "import networkx as nx\n",
    "import numpy as np\n",
    "from copy import deepcopy\n",
    "\n",
    "##########################################\n",
    "\n",
    "def inverse_hcat(graph,degrees):\n",
    "  #degrees is a dictionary with keys as argument indices and values as degrees\n",
    "  d=np.zeros(len(degrees))\n",
    "  for deg in degrees:\n",
    "    d[deg]=degrees[deg]\n",
    "  adj=nx.convert_matrix.to_numpy_array(graph)\n",
    "  adj=adj.T\n",
    "  M=np.diag(d)\n",
    "  return d+np.matmul(M,np.matmul(adj,d))\n",
    "\n",
    "def inverse_card(graph,degrees):\n",
    "  d=np.zeros(len(degrees))\n",
    "  for deg in degrees:\n",
    "    d[deg]=degrees[deg]\n",
    "\n",
    "  adj=nx.convert_matrix.to_numpy_array(graph)\n",
    "  adj=adj.T\n",
    "  att=np.sum(adj,axis=1)\n",
    "  att_m=np.diag(np.sum(adj,axis=1))\n",
    "  div=np.zeros(len(d))\n",
    "  np.divide(np.matmul(np.diag(d),np.matmul(adj,d)),att,where=att!=0,out=div)\n",
    "  lhs=d+np.matmul(att_m,d)+div\n",
    "  return lhs\n",
    "\n",
    "def inverse_mbs(graph,degrees):\n",
    "  adj=nx.convert_matrix.to_numpy_array(graph)\n",
    "  adj=adj.T\n",
    "\n",
    "  d=np.zeros(len(degrees))\n",
    "  for deg in degrees:\n",
    "    d[deg]=degrees[deg]\n",
    "  M=np.diag(d)\n",
    "\n",
    "  return d+np.matmul(M,np.max(np.matmul(adj,M),axis=1))\n",
    "\n",
    "##########################################\n",
    "class CAF:\n",
    "    def __init__(self,af,intervals):\n",
    "        self.af = af #this is a networkx graph\n",
    "        self.intervals = intervals #this is a dictionary of min/max tuples with arguments as keys\n",
    "    \n",
    "    def is_rational(self,semantics):\n",
    "        #semantics is one of hcat, card, mbs\n",
    "        #a CAF is irrational if there is no weighting s.t. sigma(a_i) \\in I(a_i) for all a_i\n",
    "        #so we need to do the inverse semantics thing and check whether all arguments are in the interval.\n",
    "        #we can do this by checking whether the minimum of the CAF is valid (assuming axial-radiality)\n",
    "        #deg = [0] * len(self.af.nodes)\n",
    "        deg = {}\n",
    "        for i in range(len(self.af.nodes)):\n",
    "           deg[i]=min(self.intervals[i])\n",
    "        weights = semantics(self.af,deg)\n",
    "        if max(weights)>1 or min(weights)<0:\n",
    "            return False\n",
    "        else:\n",
    "            return True\n",
    "    \n",
    "    def is_fully_rational(self,semantics):\n",
    "       #as above, but check max interval\n",
    "        deg = [0] * len(self.af.nodes)\n",
    "        for i in range(len(self.af.nodes)):\n",
    "           deg[i]=max(self.intervals[i])\n",
    "        weights = semantics(self.af,deg)\n",
    "        if max(weights)>1 or min(weights)<0:\n",
    "            return False\n",
    "        else:\n",
    "            return True\n",
    "      \n",
    "    def is_epsilon_rational(self,semantics,epsilon):\n",
    "      for i in range(len(self.af.nodes)):\n",
    "          if not epsilon <= max(self.intervals[i])-min(self.intervals[i]):\n",
    "             return False\n",
    "          new_caf = deepcopy(self)\n",
    "          new_caf.intervals[i]=(self.intervals[i][1]-epsilon,self.intervals[i][1])\n",
    "          if not new_caf.is_rational(semantics):\n",
    "              return False\n",
    "      return True\n",
    "    \n",
    "    def best_refinement(self,semantics,epsilon):\n",
    "        for a in self.arguments:\n",
    "            new_caf=deepcopy(self)\n",
    "            new_caf.intervals[a]=(self.intervals[a][1],self.intervals[a][1])\n",
    "            if not new_caf.is_rational(semantics):\n",
    "                l = min(self.intervals[a])\n",
    "                r = max(self.intervals[a])\n",
    "                found = False\n",
    "                while not found:\n",
    "                   m = (l+r)/2\n",
    "                   new_caf2 = deepcopy(new_caf)\n",
    "                   new_caf2.intervals[a]=(m,m)\n",
    "                   if not new_caf2.is_rational(semantics):\n",
    "                      r = m\n",
    "                      if (l-2/2)<epsilon:\n",
    "                         self.intervals[a]=(min(self.intervals[a]),m)\n",
    "                         found = True\n",
    "                   else:\n",
    "                      l = m"
   ]
  },
  {
   "cell_type": "code",
   "execution_count": 2,
   "metadata": {},
   "outputs": [],
   "source": [
    "NUM_TRIALS = 100\n",
    "\n",
    "def make_random_graph(size):\n",
    "    g = nx.fast_gnp_random_graph(size,0.5)\n",
    "    intervals = {}\n",
    "    for i in range(size):\n",
    "        intervals[i]=(0,1)\n",
    "    return CAF(g,intervals)\n",
    "\n",
    "for i in range(NUM_TRIALS):\n",
    "    #generate a random CAF\n",
    "    caf = make_random_graph(10)\n",
    "    while not caf.is_rational(inverse_hcat) and caf.is_epsilon_rational(inverse_hcat,0.01):\n",
    "        caf = make_random_graph(10)\n",
    "        caf.best_refinement(inverse_hcat,0.01)\n",
    "        if not caf.is_epsilon_rational(inverse_hcat,0.01):\n",
    "            print(\"Error\")\n",
    "            break\n",
    "\n",
    "\n"
   ]
  },
  {
   "cell_type": "markdown",
   "metadata": {},
   "source": [
    "The next part computes a line starting at the \"bottom left\" corner of the interval and with gradient equal to 1/cost per argument. It then does a bisection search along this line for a point in the shape, and returns the new interval."
   ]
  },
  {
   "cell_type": "code",
   "execution_count": 36,
   "metadata": {},
   "outputs": [],
   "source": [
    "\n",
    "def line_end(caf):\n",
    "    #returns the corner of the CAF closest to the origin as a vector\n",
    "    o=[]\n",
    "    for a in caf.af.nodes:\n",
    "        o.append(caf.intervals[a][0])\n",
    "    return np.array(o)\n",
    "\n",
    "def line_gradient(arg_costs):\n",
    "    o=[]\n",
    "    for i in range(len(arg_costs)):\n",
    "        o.append(1/arg_costs[i])\n",
    "    return np.array(o)\n",
    "\n",
    "def compute_start_l(caf,arg_costs):\n",
    "    #finds the point where all arguments are <=0 when moving along line_gradient from line_end. Do this by working out t for each argument.\n",
    "    #Compute $t as per above\n",
    "    min=1\n",
    "    for a in caf.af.nodes:\n",
    "        t = 1-arg_costs[a]*caf.intervals[a][0]\n",
    "        if t<min:\n",
    "            min=t\n",
    "    return min\n",
    "\n",
    "#now we can do a bisection search between min and 1 to find the point. For each argument, if t makes it's value below 0, we set it to 0.\n",
    "def make_rational(caf,arg_costs,epsilon):\n",
    "    l=compute_start_l(caf,arg_costs)\n",
    "    lg = line_gradient(arg_costs)\n",
    "    h=1\n",
    "    \n",
    "    new_caf = deepcopy(caf)\n",
    "    while (h-l)>epsilon:\n",
    "\n",
    "        m=(l+h)/2\n",
    "        #print(l,h,m,new_caf.intervals)\n",
    "        for a in range(len(new_caf.af.nodes)):\n",
    "            new_caf.intervals[a]=(max(0,\n",
    "                                     m*lg[a] + caf.intervals[a][0]),\n",
    "                                     caf.intervals[a][1])\n",
    "            \n",
    "            \n",
    "        if not new_caf.is_rational(inverse_hcat):\n",
    "            h=m\n",
    "        else:\n",
    "            l=m\n",
    "        \n",
    "    for a in range(len(new_caf.af.nodes)):\n",
    "        new_caf.intervals[a]=max(0,l*lg[a]+caf.intervals[a][0]),caf.intervals[a][1]\n",
    "    return new_caf\n",
    "\n",
    "def powerset(s):\n",
    "    x = len(s)\n",
    "    masks = [1 << i for i in range(x)]\n",
    "    for i in range(1 << x):\n",
    "        yield [ss for mask, ss in zip(masks, s) if i & mask]\n",
    "\n",
    "def make_rational_heuristic_strategy2(caf,arg_costs,epsilon):\n",
    "    #here we move only a subset of arguments\n",
    "    best=999999999\n",
    "    best_set=[]\n",
    "    best_caf=None\n",
    "    for p in powerset(caf.af.nodes):\n",
    "        l = compute_start_l(caf,arg_costs)\n",
    "        lg = line_gradient(arg_costs)\n",
    "        for a in caf.af.nodes:\n",
    "            if a not in p:\n",
    "                lg[a]=0\n",
    "        \n",
    "        h=1\n",
    "        new_caf = deepcopy(caf)\n",
    "        while (h-l)>epsilon:\n",
    "            m=(l+h)/2\n",
    "            for a in range(len(new_caf.af.nodes)):\n",
    "                new_caf.intervals[a]=(max(0,\n",
    "                                         m*lg[a] + caf.intervals[a][0]),\n",
    "                                         caf.intervals[a][1])\n",
    "            if not new_caf.is_rational(inverse_hcat):\n",
    "                h=m\n",
    "            else:\n",
    "                l=m\n",
    "        \n",
    "        for a in range(len(new_caf.af.nodes)):\n",
    "            new_caf.intervals[a]=max(0,l*lg[a]+caf.intervals[a][0]),caf.intervals[a][1]\n",
    "        \n",
    "        if new_caf.is_rational(inverse_hcat):\n",
    "            cost=0\n",
    "            for a in p:\n",
    "                cost+=(1-l)*arg_costs[a]\n",
    "            if cost<best:\n",
    "                best=cost\n",
    "                best_set=p\n",
    "                best_caf=new_caf\n",
    "\n",
    "    return best,best_set,new_caf\n",
    "        "
   ]
  },
  {
   "cell_type": "code",
   "execution_count": 37,
   "metadata": {},
   "outputs": [
    {
     "name": "stdout",
     "output_type": "stream",
     "text": [
      "(6, [1], <__main__.CAF object at 0x1077f0fa0>)\n"
     ]
    }
   ],
   "source": [
    "#test the make_rational function\n",
    "caf = make_random_graph(3)\n",
    "caf.intervals={0:(1,1),1:(1,1),2:(1,1)}\n",
    "arg_costs=[3,2,1]\n",
    "\n",
    "print(make_rational_heuristic_strategy2(caf,arg_costs,0.01))\n"
   ]
  },
  {
   "cell_type": "markdown",
   "metadata": {},
   "source": [
    "Another strategy is to have a line start from the origin to the point, and do a search along that one."
   ]
  },
  {
   "cell_type": "code",
   "execution_count": 17,
   "metadata": {},
   "outputs": [],
   "source": [
    "#we can use the line_end function and then do a bisection search between 0 and 1.\n",
    "def make_rational2(caf,epsilon):\n",
    "    l=0\n",
    "    h=1\n",
    "    new_caf = deepcopy(caf)\n",
    "    while (h-l)>epsilon:\n",
    "        m=(l+h)/2\n",
    "        print(l,h,m,new_caf.intervals)\n",
    "        for a in range(len(new_caf.af.nodes)):\n",
    "            new_caf.intervals[a]=(m*caf.intervals[a][0],caf.intervals[a][1])\n",
    "        if not new_caf.is_rational(inverse_hcat):\n",
    "            h=m\n",
    "        else:\n",
    "            l=m\n",
    "            \n",
    "    for a in range(len(new_caf.af.nodes)):\n",
    "        new_caf.intervals[a]=l*caf.intervals[a][0],caf.intervals[a][1]\n",
    "    return new_caf"
   ]
  },
  {
   "cell_type": "code",
   "execution_count": 24,
   "metadata": {},
   "outputs": [
    {
     "name": "stdout",
     "output_type": "stream",
     "text": [
      "0 1 0.5 {0: (1, 1), 1: (1, 1), 2: (1, 1)}\n",
      "0.5 1 0.75 {0: (0.5, 1), 1: (0.5, 1), 2: (0.5, 1)}\n",
      "0.5 0.75 0.625 {0: (0.75, 1), 1: (0.75, 1), 2: (0.75, 1)}\n",
      "0.5 0.625 0.5625 {0: (0.625, 1), 1: (0.625, 1), 2: (0.625, 1)}\n",
      "0.5 0.5625 0.53125 {0: (0.5625, 1), 1: (0.5625, 1), 2: (0.5625, 1)}\n",
      "0.5 0.53125 0.515625 {0: (0.53125, 1), 1: (0.53125, 1), 2: (0.53125, 1)}\n",
      "0.5 0.515625 0.5078125 {0: (0.515625, 1), 1: (0.515625, 1), 2: (0.515625, 1)}\n",
      "{0: (0.5, 1), 1: (0.5, 1), 2: (0.5, 1)}\n"
     ]
    }
   ],
   "source": [
    "\n",
    "caf = make_random_graph(3)\n",
    "caf.intervals={0:(1,1),1:(1,1),2:(1,1)}\n",
    "arg_costs=[3,2,1]\n",
    "\n",
    "new_caf=make_rational2(caf,0.01)\n",
    "print(new_caf.intervals)"
   ]
  },
  {
   "cell_type": "code",
   "execution_count": 16,
   "metadata": {},
   "outputs": [
    {
     "data": {
      "text/plain": [
       "{0: (0.5, 1), 1: (0.5, 1), 2: (0.5, 1)}"
      ]
     },
     "execution_count": 16,
     "metadata": {},
     "output_type": "execute_result"
    }
   ],
   "source": []
  },
  {
   "cell_type": "code",
   "execution_count": 28,
   "metadata": {},
   "outputs": [
    {
     "data": {
      "text/plain": [
       "[[], [1], [2], [1, 2], [3], [1, 3], [2, 3], [1, 2, 3]]"
      ]
     },
     "execution_count": 28,
     "metadata": {},
     "output_type": "execute_result"
    }
   ],
   "source": [
    "list(powerset([1,2,3]))"
   ]
  },
  {
   "cell_type": "code",
   "execution_count": null,
   "metadata": {},
   "outputs": [],
   "source": []
  }
 ],
 "metadata": {
  "kernelspec": {
   "display_name": ".venv",
   "language": "python",
   "name": "python3"
  },
  "language_info": {
   "codemirror_mode": {
    "name": "ipython",
    "version": 3
   },
   "file_extension": ".py",
   "mimetype": "text/x-python",
   "name": "python",
   "nbconvert_exporter": "python",
   "pygments_lexer": "ipython3",
   "version": "3.10.13"
  }
 },
 "nbformat": 4,
 "nbformat_minor": 2
}
